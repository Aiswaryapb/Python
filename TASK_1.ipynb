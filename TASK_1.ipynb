{
  "nbformat": 4,
  "nbformat_minor": 0,
  "metadata": {
    "colab": {
      "name": "TASK 1",
      "provenance": [],
      "include_colab_link": true
    },
    "kernelspec": {
      "name": "python3",
      "display_name": "Python 3"
    },
    "language_info": {
      "name": "python"
    }
  },
  "cells": [
    {
      "cell_type": "markdown",
      "metadata": {
        "id": "view-in-github",
        "colab_type": "text"
      },
      "source": [
        "<a href=\"https://colab.research.google.com/github/Aiswaryapb/Python/blob/main/TASK_1.ipynb\" target=\"_parent\"><img src=\"https://colab.research.google.com/assets/colab-badge.svg\" alt=\"Open In Colab\"/></a>"
      ]
    },
    {
      "cell_type": "markdown",
      "metadata": {
        "id": "q-yWxfWESiQo"
      },
      "source": [
        "1.Write a program that uses input to prompt a user for their name and then welcomes them."
      ]
    },
    {
      "cell_type": "code",
      "metadata": {
        "id": "9ikpRxqMSxu0",
        "outputId": "9769a7b2-9477-4d15-800e-1961119f759b",
        "colab": {
          "base_uri": "https://localhost:8080/"
        }
      },
      "source": [
        "name=input('enter name:')\n",
        "print(\"Hello\",name)"
      ],
      "execution_count": 1,
      "outputs": [
        {
          "output_type": "stream",
          "text": [
            "enter name:Aiswarya\n",
            "Hello Aiswarya\n"
          ],
          "name": "stdout"
        }
      ]
    },
    {
      "cell_type": "markdown",
      "metadata": {
        "id": "Ay5OdxguS-2Z"
      },
      "source": [
        "2.Write a program which prompts the user for a Celsius temperature, convert the temperature to Fahrenheit, and print out the converted temperature."
      ]
    },
    {
      "cell_type": "code",
      "metadata": {
        "id": "MMv2yWNtTgEu",
        "outputId": "16327232-b6fc-41a0-c040-696ba212f312",
        "colab": {
          "base_uri": "https://localhost:8080/"
        }
      },
      "source": [
        "c = float(input(\"enter celsius:\"))\n",
        "m = (float(1.8))\n",
        "f = (c*m)+32\n",
        "print(\"your faranheit output is:\",f,\"F\")"
      ],
      "execution_count": 2,
      "outputs": [
        {
          "output_type": "stream",
          "text": [
            "enter celsius:27\n",
            "your faranheit output is: 80.6 F\n"
          ],
          "name": "stdout"
        }
      ]
    },
    {
      "cell_type": "markdown",
      "metadata": {
        "id": "v6O1a198TpNd"
      },
      "source": [
        "3.Write a Python program to convert degree to radian."
      ]
    },
    {
      "cell_type": "code",
      "metadata": {
        "id": "27Jj4_D0UQBA",
        "outputId": "11a5fa95-a8e8-43f2-e7cf-eb5d3c765454",
        "colab": {
          "base_uri": "https://localhost:8080/"
        }
      },
      "source": [
        "deg =float(input(\"Enter your Degree Value:\"))\n",
        "m = (float(22/7))\n",
        "n = (float(m/180))\n",
        "rad = (float(n*deg))\n",
        "print(\"Your Radian Result is:\",rad)"
      ],
      "execution_count": 4,
      "outputs": [
        {
          "output_type": "stream",
          "text": [
            "Enter your Degree Value:45\n",
            "Your Radian Result is: 0.7857142857142857\n"
          ],
          "name": "stdout"
        }
      ]
    }
  ]
}